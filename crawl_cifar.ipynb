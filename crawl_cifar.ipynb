{
 "cells": [
  {
   "cell_type": "code",
   "execution_count": 2,
   "metadata": {},
   "outputs": [
    {
     "name": "stderr",
     "output_type": "stream",
     "text": [
      "/home/pzzhao/miniconda3/envs/default/lib/python3.11/site-packages/tqdm/auto.py:21: TqdmWarning: IProgress not found. Please update jupyter and ipywidgets. See https://ipywidgets.readthedocs.io/en/stable/user_install.html\n",
      "  from .autonotebook import tqdm as notebook_tqdm\n"
     ]
    },
    {
     "name": "stdout",
     "output_type": "stream",
     "text": [
      "Files already downloaded and verified\n"
     ]
    }
   ],
   "source": [
    "import torch\n",
    "from torchvision import datasets, transforms\n",
    "from PIL import Image\n",
    "import os\n",
    "\n",
    "\n",
    "# Download the CIFAR-100 dataset\n",
    "cifar100_dataset = datasets.CIFAR100(root='./data', train=False, download=True, transform=None)\n"
   ]
  },
  {
   "cell_type": "code",
   "execution_count": 3,
   "metadata": {},
   "outputs": [
    {
     "name": "stdout",
     "output_type": "stream",
     "text": [
      "Images saved locally.\n"
     ]
    }
   ],
   "source": [
    "# Create a directory to store the images\n",
    "output_directory = './cifar100_images/'\n",
    "os.makedirs(output_directory, exist_ok=True)\n",
    "\n",
    "# Loop through the dataset and save each image locally\n",
    "for i in range(len(cifar100_dataset)):\n",
    "    image, label = cifar100_dataset[i]\n",
    "\n",
    "    # Convert the PyTorch tensor to a PIL Image\n",
    "    # image_pil = transforms.ToPILImage()(image)\n",
    "\n",
    "    # Save the image locally\n",
    "    image_filename = f\"{i}_label_{label}.png\"\n",
    "    image.save(output_directory + image_filename)\n",
    "\n",
    "print(\"Images saved locally.\")"
   ]
  }
 ],
 "metadata": {
  "kernelspec": {
   "display_name": "default",
   "language": "python",
   "name": "python3"
  },
  "language_info": {
   "codemirror_mode": {
    "name": "ipython",
    "version": 3
   },
   "file_extension": ".py",
   "mimetype": "text/x-python",
   "name": "python",
   "nbconvert_exporter": "python",
   "pygments_lexer": "ipython3",
   "version": "3.11.5"
  }
 },
 "nbformat": 4,
 "nbformat_minor": 2
}
